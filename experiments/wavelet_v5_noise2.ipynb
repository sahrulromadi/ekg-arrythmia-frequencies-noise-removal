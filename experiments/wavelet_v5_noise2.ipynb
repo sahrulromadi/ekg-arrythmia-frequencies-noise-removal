{
 "cells": [
  {
   "cell_type": "code",
   "execution_count": null,
   "metadata": {
    "executionInfo": {
     "elapsed": 33,
     "status": "ok",
     "timestamp": 1753719066359,
     "user": {
      "displayName": "Sahrul",
      "userId": "17024938900753947868"
     },
     "user_tz": -420
    },
    "id": "bL-DoPBXd54S"
   },
   "outputs": [],
   "source": [
    "import pandas as pd\n",
    "import numpy as np\n",
    "import pywt\n",
    "from tensorflow.keras.models import Sequential\n",
    "from tensorflow.keras.layers import Dense, Dropout\n",
    "from tensorflow.keras.optimizers import Adam\n",
    "from tensorflow.keras.callbacks import EarlyStopping"
   ]
  },
  {
   "cell_type": "code",
   "execution_count": null,
   "metadata": {
    "executionInfo": {
     "elapsed": 832,
     "status": "ok",
     "timestamp": 1753719826614,
     "user": {
      "displayName": "Sahrul",
      "userId": "17024938900753947868"
     },
     "user_tz": -420
    },
    "id": "q5IAozJAeShc"
   },
   "outputs": [],
   "source": [
    "# Load dataset\n",
    "mitbih_df = pd.read_csv('../datasets/mitbih_100_signals.csv')\n",
    "nstdb_em_df = pd.read_csv('../datasets/nstdb_em_signal.csv')\n",
    "nstdb_ma_df = pd.read_csv('../datasets/nstdb_ma_signal.csv')\n",
    "nstdb_bw_df = pd.read_csv('../datasets/nstdb_bw_signal.csv')"
   ]
  },
  {
   "cell_type": "markdown",
   "metadata": {
    "id": "7EV2knm8xiR9"
   },
   "source": [
    "## Preprocessing"
   ]
  },
  {
   "cell_type": "code",
   "execution_count": null,
   "metadata": {
    "executionInfo": {
     "elapsed": 3,
     "status": "ok",
     "timestamp": 1753719826620,
     "user": {
      "displayName": "Sahrul",
      "userId": "17024938900753947868"
     },
     "user_tz": -420
    },
    "id": "t2uWuhMI1J1N"
   },
   "outputs": [],
   "source": [
    "def normalize_signal(signal):\n",
    "    # Normalisasi ke rentang [-1, 1]\n",
    "    return 2 * (signal - min_global) / range_global - 1\n",
    "\n",
    "def denormalize_signal(signal):\n",
    "    # Kembalikan ke skala asli\n",
    "    return (signal + 1) * range_global / 2 + min_global\n",
    "\n",
    "# Normalisasi\n",
    "clean_signal_asli = mitbih_df['V5'].values\n",
    "min_global = np.min(clean_signal_asli)\n",
    "max_global = np.max(clean_signal_asli)\n",
    "range_global = max_global - min_global\n",
    "\n",
    "clean_signals_norm = normalize_signal(clean_signal_asli)\n",
    "bw_signals_norm = normalize_signal(nstdb_bw_df['noise2'].values)\n",
    "ma_signals_norm = normalize_signal(nstdb_ma_df['noise2'].values)\n",
    "em_signals_norm = normalize_signal(nstdb_em_df['noise2'].values)"
   ]
  },
  {
   "cell_type": "code",
   "execution_count": 109,
   "metadata": {
    "executionInfo": {
     "elapsed": 2,
     "status": "ok",
     "timestamp": 1753719826625,
     "user": {
      "displayName": "Sahrul",
      "userId": "17024938900753947868"
     },
     "user_tz": -420
    },
    "id": "lacrXgGDySSN"
   },
   "outputs": [],
   "source": [
    "WINDOW_SIZE = 512\n",
    "WAVELET_TYPE = 'db4'\n",
    "WAVELET_LEVEL = 4\n",
    "\n",
    "def create_windows(signal, window_size):\n",
    "    windows = []\n",
    "    for i in range(0, len(signal) - window_size + 1, window_size):\n",
    "        windows.append(signal[i:i + window_size])\n",
    "    return np.array(windows)\n",
    "\n",
    "# Potong sinyal agar panjangnya sama untuk semua dataset\n",
    "min_len = min(len(clean_signals_norm), len(bw_signals_norm), len(ma_signals_norm), len(em_signals_norm))\n",
    "clean_windows = create_windows(clean_signals_norm[:min_len], WINDOW_SIZE)\n",
    "bw_windows = create_windows(bw_signals_norm[:min_len], WINDOW_SIZE)\n",
    "ma_windows = create_windows(ma_signals_norm[:min_len], WINDOW_SIZE)\n",
    "em_windows = create_windows(em_signals_norm[:min_len], WINDOW_SIZE)"
   ]
  },
  {
   "cell_type": "code",
   "execution_count": 110,
   "metadata": {
    "colab": {
     "base_uri": "https://localhost:8080/"
    },
    "executionInfo": {
     "elapsed": 1127,
     "status": "ok",
     "timestamp": 1753719827754,
     "user": {
      "displayName": "Sahrul",
      "userId": "17024938900753947868"
     },
     "user_tz": -420
    },
    "id": "lTU-k8Cz1dIv",
    "outputId": "dc9aae78-dcb7-4906-e422-280aa15d2b6f"
   },
   "outputs": [
    {
     "name": "stdout",
     "output_type": "stream",
     "text": [
      "Data telah disegmentasi dan ditransformasi.\n",
      "Bentuk data training (X_train): (3807, 538)\n"
     ]
    }
   ],
   "source": [
    "# Gabungkan semua data berderau untuk pelatihan\n",
    "noisy_windows_train = np.concatenate([bw_windows, ma_windows, em_windows], axis=0)\n",
    "clean_windows_train = np.concatenate([clean_windows] * 3, axis=0)\n",
    "\n",
    "# Fungsi untuk transformasi wavelet\n",
    "def transform_windows(windows, wavelet, level):\n",
    "    all_coeffs, all_slices = [], []\n",
    "    for window in windows:\n",
    "        coeffs = pywt.wavedec(window, wavelet, level=level)\n",
    "        coeffs_arr, slices = pywt.coeffs_to_array(coeffs)\n",
    "        all_coeffs.append(coeffs_arr)\n",
    "        all_slices.append(slices) # Simpan slice info untuk rekonstruksi\n",
    "    return np.array(all_coeffs), all_slices[0] # Slice info sama untuk semua window\n",
    "\n",
    "X_train, slice_info = transform_windows(noisy_windows_train, WAVELET_TYPE, WAVELET_LEVEL)\n",
    "y_train, _ = transform_windows(clean_windows_train, WAVELET_TYPE, WAVELET_LEVEL)\n",
    "\n",
    "print(f\"Data telah disegmentasi dan ditransformasi.\")\n",
    "print(f\"Bentuk data training (X_train): {X_train.shape}\")"
   ]
  },
  {
   "cell_type": "markdown",
   "metadata": {
    "id": "ickjfnDbxp1X"
   },
   "source": [
    "## Model Wavelnet + MLP"
   ]
  },
  {
   "cell_type": "code",
   "execution_count": 111,
   "metadata": {
    "colab": {
     "base_uri": "https://localhost:8080/",
     "height": 0
    },
    "executionInfo": {
     "elapsed": 94,
     "status": "ok",
     "timestamp": 1753719827934,
     "user": {
      "displayName": "Sahrul",
      "userId": "17024938900753947868"
     },
     "user_tz": -420
    },
    "id": "Kyp8vvahxuJ5",
    "outputId": "3b63987b-9a89-4935-ca6c-901893d6f703"
   },
   "outputs": [
    {
     "name": "stderr",
     "output_type": "stream",
     "text": [
      "/usr/local/lib/python3.11/dist-packages/keras/src/layers/core/dense.py:87: UserWarning: Do not pass an `input_shape`/`input_dim` argument to a layer. When using Sequential models, prefer using an `Input(shape)` object as the first layer in the model instead.\n",
      "  super().__init__(activity_regularizer=activity_regularizer, **kwargs)\n"
     ]
    },
    {
     "data": {
      "text/html": [
       "<pre style=\"white-space:pre;overflow-x:auto;line-height:normal;font-family:Menlo,'DejaVu Sans Mono',consolas,'Courier New',monospace\"><span style=\"font-weight: bold\">Model: \"sequential_4\"</span>\n",
       "</pre>\n"
      ],
      "text/plain": [
       "\u001b[1mModel: \"sequential_4\"\u001b[0m\n"
      ]
     },
     "metadata": {},
     "output_type": "display_data"
    },
    {
     "data": {
      "text/html": [
       "<pre style=\"white-space:pre;overflow-x:auto;line-height:normal;font-family:Menlo,'DejaVu Sans Mono',consolas,'Courier New',monospace\">┏━━━━━━━━━━━━━━━━━━━━━━━━━━━━━━━━━┳━━━━━━━━━━━━━━━━━━━━━━━━┳━━━━━━━━━━━━━━━┓\n",
       "┃<span style=\"font-weight: bold\"> Layer (type)                    </span>┃<span style=\"font-weight: bold\"> Output Shape           </span>┃<span style=\"font-weight: bold\">       Param # </span>┃\n",
       "┡━━━━━━━━━━━━━━━━━━━━━━━━━━━━━━━━━╇━━━━━━━━━━━━━━━━━━━━━━━━╇━━━━━━━━━━━━━━━┩\n",
       "│ dense_16 (<span style=\"color: #0087ff; text-decoration-color: #0087ff\">Dense</span>)                │ (<span style=\"color: #00d7ff; text-decoration-color: #00d7ff\">None</span>, <span style=\"color: #00af00; text-decoration-color: #00af00\">128</span>)            │        <span style=\"color: #00af00; text-decoration-color: #00af00\">68,992</span> │\n",
       "├─────────────────────────────────┼────────────────────────┼───────────────┤\n",
       "│ dropout_25 (<span style=\"color: #0087ff; text-decoration-color: #0087ff\">Dropout</span>)            │ (<span style=\"color: #00d7ff; text-decoration-color: #00d7ff\">None</span>, <span style=\"color: #00af00; text-decoration-color: #00af00\">128</span>)            │             <span style=\"color: #00af00; text-decoration-color: #00af00\">0</span> │\n",
       "├─────────────────────────────────┼────────────────────────┼───────────────┤\n",
       "│ dense_17 (<span style=\"color: #0087ff; text-decoration-color: #0087ff\">Dense</span>)                │ (<span style=\"color: #00d7ff; text-decoration-color: #00d7ff\">None</span>, <span style=\"color: #00af00; text-decoration-color: #00af00\">64</span>)             │         <span style=\"color: #00af00; text-decoration-color: #00af00\">8,256</span> │\n",
       "├─────────────────────────────────┼────────────────────────┼───────────────┤\n",
       "│ dense_18 (<span style=\"color: #0087ff; text-decoration-color: #0087ff\">Dense</span>)                │ (<span style=\"color: #00d7ff; text-decoration-color: #00d7ff\">None</span>, <span style=\"color: #00af00; text-decoration-color: #00af00\">128</span>)            │         <span style=\"color: #00af00; text-decoration-color: #00af00\">8,320</span> │\n",
       "├─────────────────────────────────┼────────────────────────┼───────────────┤\n",
       "│ dense_19 (<span style=\"color: #0087ff; text-decoration-color: #0087ff\">Dense</span>)                │ (<span style=\"color: #00d7ff; text-decoration-color: #00d7ff\">None</span>, <span style=\"color: #00af00; text-decoration-color: #00af00\">538</span>)            │        <span style=\"color: #00af00; text-decoration-color: #00af00\">69,402</span> │\n",
       "└─────────────────────────────────┴────────────────────────┴───────────────┘\n",
       "</pre>\n"
      ],
      "text/plain": [
       "┏━━━━━━━━━━━━━━━━━━━━━━━━━━━━━━━━━┳━━━━━━━━━━━━━━━━━━━━━━━━┳━━━━━━━━━━━━━━━┓\n",
       "┃\u001b[1m \u001b[0m\u001b[1mLayer (type)                   \u001b[0m\u001b[1m \u001b[0m┃\u001b[1m \u001b[0m\u001b[1mOutput Shape          \u001b[0m\u001b[1m \u001b[0m┃\u001b[1m \u001b[0m\u001b[1m      Param #\u001b[0m\u001b[1m \u001b[0m┃\n",
       "┡━━━━━━━━━━━━━━━━━━━━━━━━━━━━━━━━━╇━━━━━━━━━━━━━━━━━━━━━━━━╇━━━━━━━━━━━━━━━┩\n",
       "│ dense_16 (\u001b[38;5;33mDense\u001b[0m)                │ (\u001b[38;5;45mNone\u001b[0m, \u001b[38;5;34m128\u001b[0m)            │        \u001b[38;5;34m68,992\u001b[0m │\n",
       "├─────────────────────────────────┼────────────────────────┼───────────────┤\n",
       "│ dropout_25 (\u001b[38;5;33mDropout\u001b[0m)            │ (\u001b[38;5;45mNone\u001b[0m, \u001b[38;5;34m128\u001b[0m)            │             \u001b[38;5;34m0\u001b[0m │\n",
       "├─────────────────────────────────┼────────────────────────┼───────────────┤\n",
       "│ dense_17 (\u001b[38;5;33mDense\u001b[0m)                │ (\u001b[38;5;45mNone\u001b[0m, \u001b[38;5;34m64\u001b[0m)             │         \u001b[38;5;34m8,256\u001b[0m │\n",
       "├─────────────────────────────────┼────────────────────────┼───────────────┤\n",
       "│ dense_18 (\u001b[38;5;33mDense\u001b[0m)                │ (\u001b[38;5;45mNone\u001b[0m, \u001b[38;5;34m128\u001b[0m)            │         \u001b[38;5;34m8,320\u001b[0m │\n",
       "├─────────────────────────────────┼────────────────────────┼───────────────┤\n",
       "│ dense_19 (\u001b[38;5;33mDense\u001b[0m)                │ (\u001b[38;5;45mNone\u001b[0m, \u001b[38;5;34m538\u001b[0m)            │        \u001b[38;5;34m69,402\u001b[0m │\n",
       "└─────────────────────────────────┴────────────────────────┴───────────────┘\n"
      ]
     },
     "metadata": {},
     "output_type": "display_data"
    },
    {
     "data": {
      "text/html": [
       "<pre style=\"white-space:pre;overflow-x:auto;line-height:normal;font-family:Menlo,'DejaVu Sans Mono',consolas,'Courier New',monospace\"><span style=\"font-weight: bold\"> Total params: </span><span style=\"color: #00af00; text-decoration-color: #00af00\">154,970</span> (605.35 KB)\n",
       "</pre>\n"
      ],
      "text/plain": [
       "\u001b[1m Total params: \u001b[0m\u001b[38;5;34m154,970\u001b[0m (605.35 KB)\n"
      ]
     },
     "metadata": {},
     "output_type": "display_data"
    },
    {
     "data": {
      "text/html": [
       "<pre style=\"white-space:pre;overflow-x:auto;line-height:normal;font-family:Menlo,'DejaVu Sans Mono',consolas,'Courier New',monospace\"><span style=\"font-weight: bold\"> Trainable params: </span><span style=\"color: #00af00; text-decoration-color: #00af00\">154,970</span> (605.35 KB)\n",
       "</pre>\n"
      ],
      "text/plain": [
       "\u001b[1m Trainable params: \u001b[0m\u001b[38;5;34m154,970\u001b[0m (605.35 KB)\n"
      ]
     },
     "metadata": {},
     "output_type": "display_data"
    },
    {
     "data": {
      "text/html": [
       "<pre style=\"white-space:pre;overflow-x:auto;line-height:normal;font-family:Menlo,'DejaVu Sans Mono',consolas,'Courier New',monospace\"><span style=\"font-weight: bold\"> Non-trainable params: </span><span style=\"color: #00af00; text-decoration-color: #00af00\">0</span> (0.00 B)\n",
       "</pre>\n"
      ],
      "text/plain": [
       "\u001b[1m Non-trainable params: \u001b[0m\u001b[38;5;34m0\u001b[0m (0.00 B)\n"
      ]
     },
     "metadata": {},
     "output_type": "display_data"
    }
   ],
   "source": [
    "input_dim = X_train.shape[1]\n",
    "\n",
    "model = Sequential([\n",
    "    Dense(128, activation='relu', input_shape=(input_dim,)),\n",
    "    Dropout(0.2),\n",
    "    Dense(64, activation='relu'),\n",
    "    Dense(128, activation='relu'),\n",
    "    Dense(input_dim) # Layer output linear\n",
    "])\n",
    "\n",
    "model.compile(optimizer=Adam(learning_rate=0.001), loss='mean_squared_error')\n",
    "model.summary()"
   ]
  },
  {
   "cell_type": "code",
   "execution_count": 112,
   "metadata": {
    "colab": {
     "base_uri": "https://localhost:8080/"
    },
    "executionInfo": {
     "elapsed": 10803,
     "status": "ok",
     "timestamp": 1753719838740,
     "user": {
      "displayName": "Sahrul",
      "userId": "17024938900753947868"
     },
     "user_tz": -420
    },
    "id": "JGbSRk1jzRMr",
    "outputId": "7349cb28-cbe9-4694-9c9b-65b966b0bf03"
   },
   "outputs": [
    {
     "name": "stdout",
     "output_type": "stream",
     "text": [
      "Epoch 1/100\n",
      "\u001b[1m108/108\u001b[0m \u001b[32m━━━━━━━━━━━━━━━━━━━━\u001b[0m\u001b[37m\u001b[0m \u001b[1m4s\u001b[0m 12ms/step - loss: 0.0352 - val_loss: 0.0102\n",
      "Epoch 2/100\n",
      "\u001b[1m108/108\u001b[0m \u001b[32m━━━━━━━━━━━━━━━━━━━━\u001b[0m\u001b[37m\u001b[0m \u001b[1m1s\u001b[0m 3ms/step - loss: 0.0097 - val_loss: 0.0087\n",
      "Epoch 3/100\n",
      "\u001b[1m108/108\u001b[0m \u001b[32m━━━━━━━━━━━━━━━━━━━━\u001b[0m\u001b[37m\u001b[0m \u001b[1m0s\u001b[0m 3ms/step - loss: 0.0076 - val_loss: 0.0081\n",
      "Epoch 4/100\n",
      "\u001b[1m108/108\u001b[0m \u001b[32m━━━━━━━━━━━━━━━━━━━━\u001b[0m\u001b[37m\u001b[0m \u001b[1m0s\u001b[0m 3ms/step - loss: 0.0074 - val_loss: 0.0080\n",
      "Epoch 5/100\n",
      "\u001b[1m108/108\u001b[0m \u001b[32m━━━━━━━━━━━━━━━━━━━━\u001b[0m\u001b[37m\u001b[0m \u001b[1m1s\u001b[0m 3ms/step - loss: 0.0075 - val_loss: 0.0084\n",
      "Epoch 6/100\n",
      "\u001b[1m108/108\u001b[0m \u001b[32m━━━━━━━━━━━━━━━━━━━━\u001b[0m\u001b[37m\u001b[0m \u001b[1m0s\u001b[0m 3ms/step - loss: 0.0073 - val_loss: 0.0086\n",
      "Epoch 7/100\n",
      "\u001b[1m108/108\u001b[0m \u001b[32m━━━━━━━━━━━━━━━━━━━━\u001b[0m\u001b[37m\u001b[0m \u001b[1m0s\u001b[0m 3ms/step - loss: 0.0072 - val_loss: 0.0085\n",
      "Epoch 8/100\n",
      "\u001b[1m108/108\u001b[0m \u001b[32m━━━━━━━━━━━━━━━━━━━━\u001b[0m\u001b[37m\u001b[0m \u001b[1m0s\u001b[0m 3ms/step - loss: 0.0074 - val_loss: 0.0086\n",
      "Epoch 9/100\n",
      "\u001b[1m108/108\u001b[0m \u001b[32m━━━━━━━━━━━━━━━━━━━━\u001b[0m\u001b[37m\u001b[0m \u001b[1m0s\u001b[0m 3ms/step - loss: 0.0074 - val_loss: 0.0082\n",
      "Epoch 10/100\n",
      "\u001b[1m108/108\u001b[0m \u001b[32m━━━━━━━━━━━━━━━━━━━━\u001b[0m\u001b[37m\u001b[0m \u001b[1m0s\u001b[0m 3ms/step - loss: 0.0073 - val_loss: 0.0086\n",
      "Epoch 11/100\n",
      "\u001b[1m108/108\u001b[0m \u001b[32m━━━━━━━━━━━━━━━━━━━━\u001b[0m\u001b[37m\u001b[0m \u001b[1m0s\u001b[0m 3ms/step - loss: 0.0072 - val_loss: 0.0087\n",
      "Epoch 12/100\n",
      "\u001b[1m108/108\u001b[0m \u001b[32m━━━━━━━━━━━━━━━━━━━━\u001b[0m\u001b[37m\u001b[0m \u001b[1m0s\u001b[0m 3ms/step - loss: 0.0075 - val_loss: 0.0084\n",
      "Epoch 13/100\n",
      "\u001b[1m108/108\u001b[0m \u001b[32m━━━━━━━━━━━━━━━━━━━━\u001b[0m\u001b[37m\u001b[0m \u001b[1m0s\u001b[0m 3ms/step - loss: 0.0073 - val_loss: 0.0084\n",
      "Epoch 14/100\n",
      "\u001b[1m108/108\u001b[0m \u001b[32m━━━━━━━━━━━━━━━━━━━━\u001b[0m\u001b[37m\u001b[0m \u001b[1m1s\u001b[0m 3ms/step - loss: 0.0072 - val_loss: 0.0082\n",
      "Epoch 15/100\n",
      "\u001b[1m108/108\u001b[0m \u001b[32m━━━━━━━━━━━━━━━━━━━━\u001b[0m\u001b[37m\u001b[0m \u001b[1m1s\u001b[0m 3ms/step - loss: 0.0071 - val_loss: 0.0092\n",
      "Epoch 16/100\n",
      "\u001b[1m108/108\u001b[0m \u001b[32m━━━━━━━━━━━━━━━━━━━━\u001b[0m\u001b[37m\u001b[0m \u001b[1m0s\u001b[0m 3ms/step - loss: 0.0075 - val_loss: 0.0087\n",
      "Epoch 17/100\n",
      "\u001b[1m108/108\u001b[0m \u001b[32m━━━━━━━━━━━━━━━━━━━━\u001b[0m\u001b[37m\u001b[0m \u001b[1m0s\u001b[0m 3ms/step - loss: 0.0072 - val_loss: 0.0082\n",
      "Epoch 18/100\n",
      "\u001b[1m108/108\u001b[0m \u001b[32m━━━━━━━━━━━━━━━━━━━━\u001b[0m\u001b[37m\u001b[0m \u001b[1m0s\u001b[0m 3ms/step - loss: 0.0071 - val_loss: 0.0085\n",
      "Epoch 19/100\n",
      "\u001b[1m108/108\u001b[0m \u001b[32m━━━━━━━━━━━━━━━━━━━━\u001b[0m\u001b[37m\u001b[0m \u001b[1m0s\u001b[0m 3ms/step - loss: 0.0074 - val_loss: 0.0087\n",
      "Epoch 19: early stopping\n",
      "Restoring model weights from the end of the best epoch: 4.\n"
     ]
    }
   ],
   "source": [
    "early_stopping = EarlyStopping(monitor='val_loss', patience=15, restore_best_weights=True, verbose=1)\n",
    "\n",
    "history = model.fit(X_train, y_train, epochs=100, batch_size=32, validation_split=0.1, callbacks=[early_stopping])"
   ]
  },
  {
   "cell_type": "markdown",
   "metadata": {
    "id": "KYCurCHazbfb"
   },
   "source": [
    "## Denoising dan Evaluasi"
   ]
  },
  {
   "cell_type": "code",
   "execution_count": 113,
   "metadata": {
    "colab": {
     "base_uri": "https://localhost:8080/"
    },
    "executionInfo": {
     "elapsed": 2406,
     "status": "ok",
     "timestamp": 1753719841185,
     "user": {
      "displayName": "Sahrul",
      "userId": "17024938900753947868"
     },
     "user_tz": -420
    },
    "id": "JFAMwCllzX9E",
    "outputId": "34b2a19c-1bf5-4039-e21f-dd09506aa7ff"
   },
   "outputs": [
    {
     "name": "stdout",
     "output_type": "stream",
     "text": [
      "\u001b[1m40/40\u001b[0m \u001b[32m━━━━━━━━━━━━━━━━━━━━\u001b[0m\u001b[37m\u001b[0m \u001b[1m0s\u001b[0m 5ms/step\n",
      "Hasil Akhir untuk: Baseline Wander\n",
      "Rata-rata RMSE: 0.1448\n",
      "Rata-rata PRD : 64.1159% \n",
      "\n",
      "\u001b[1m40/40\u001b[0m \u001b[32m━━━━━━━━━━━━━━━━━━━━\u001b[0m\u001b[37m\u001b[0m \u001b[1m0s\u001b[0m 2ms/step\n",
      "Hasil Akhir untuk: Motion Artifact\n",
      "Rata-rata RMSE: 0.1445\n",
      "Rata-rata PRD : 63.9082% \n",
      "\n",
      "\u001b[1m40/40\u001b[0m \u001b[32m━━━━━━━━━━━━━━━━━━━━\u001b[0m\u001b[37m\u001b[0m \u001b[1m0s\u001b[0m 3ms/step\n",
      "Hasil Akhir untuk: Electrode Motion\n",
      "Rata-rata RMSE: 0.1450\n",
      "Rata-rata PRD : 64.1724% \n",
      "\n"
     ]
    }
   ],
   "source": [
    "noisy_windows_for_eval = {\n",
    "    \"Baseline Wander\": bw_windows,\n",
    "    \"Motion Artifact\": ma_windows,\n",
    "    \"Electrode Motion\": em_windows\n",
    "}\n",
    "\n",
    "def calculate_rmse(clean, denoised):\n",
    "    return np.sqrt(np.mean((denoised - clean) ** 2))\n",
    "def calculate_prd(clean, denoised):\n",
    "    return 100 * np.sqrt(np.sum((denoised - clean) ** 2) / np.sum(clean ** 2))\n",
    "\n",
    "for noise_type, noisy_windows in noisy_windows_for_eval.items():\n",
    "    # 1. Transformasi wavelet pada data uji\n",
    "    X_eval, _ = transform_windows(noisy_windows, WAVELET_TYPE, WAVELET_LEVEL)\n",
    "\n",
    "    # 2. Prediksi koefisien bersih menggunakan model\n",
    "    predicted_coeffs_flat = model.predict(X_eval)\n",
    "\n",
    "    # 3. Rekonstruksi sinyal dari koefisien yang diprediksi\n",
    "    reconstructed_signals_norm = []\n",
    "    for coeffs_flat in predicted_coeffs_flat:\n",
    "        coeffs_structured = pywt.array_to_coeffs(coeffs_flat, slice_info, output_format='wavedec')\n",
    "        reconstructed_signal = pywt.waverec(coeffs_structured, WAVELET_TYPE)\n",
    "        reconstructed_signals_norm.append(reconstructed_signal[:WINDOW_SIZE])\n",
    "\n",
    "    reconstructed_signals_norm = np.array(reconstructed_signals_norm)\n",
    "\n",
    "    # 4. De-normalisasi sinyal untuk evaluasi\n",
    "    denoised_signals_original = denormalize_signal(reconstructed_signals_norm)\n",
    "    clean_eval_signals_original = denormalize_signal(clean_windows) # De-normalisasi data bersih juga\n",
    "\n",
    "    # 5. Hitung skor\n",
    "    rmses = [calculate_rmse(c, d) for c, d in zip(clean_eval_signals_original, denoised_signals_original)]\n",
    "    prds = [calculate_prd(c, d) for c, d in zip(clean_eval_signals_original, denoised_signals_original)]\n",
    "\n",
    "    print(f\"Hasil Akhir untuk: {noise_type}\")\n",
    "    print(f\"Rata-rata RMSE: {np.mean(rmses):.4f}\")\n",
    "    print(f\"Rata-rata PRD : {np.mean(prds):.4f}% \\n\")\n"
   ]
  }
 ],
 "metadata": {
  "accelerator": "GPU",
  "colab": {
   "authorship_tag": "ABX9TyNJzTPlGwQibd8EzVSDdsKu",
   "collapsed_sections": [
    "7EV2knm8xiR9"
   ],
   "gpuType": "T4",
   "provenance": []
  },
  "kernelspec": {
   "display_name": "Python 3",
   "name": "python3"
  },
  "language_info": {
   "name": "python"
  }
 },
 "nbformat": 4,
 "nbformat_minor": 0
}
